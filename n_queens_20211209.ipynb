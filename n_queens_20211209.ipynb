{
  "nbformat": 4,
  "nbformat_minor": 0,
  "metadata": {
    "language_info": {
      "name": "python",
      "pygments_lexer": "ipython3"
    },
    "colab": {
      "name": "n-queens_20211209.ipynb",
      "provenance": [],
      "collapsed_sections": [],
      "include_colab_link": true
    }
  },
  "cells": [
    {
      "cell_type": "markdown",
      "metadata": {
        "id": "view-in-github",
        "colab_type": "text"
      },
      "source": [
        "<a href=\"https://colab.research.google.com/github/otanet/Quantum_Computing_Annealing_Machine_20211209/blob/main/n_queens_20211209.ipynb\" target=\"_parent\"><img src=\"https://colab.research.google.com/assets/colab-badge.svg\" alt=\"Open In Colab\"/></a>"
      ]
    },
    {
      "cell_type": "markdown",
      "metadata": {
        "id": "ZkBer__QmZhT"
      },
      "source": [
        "# n-クイーン問題\n",
        "\n",
        "数独のように、制約条件のみを課すことによって解くことができる最適化問題の例として、エイト・クイ―ンというゲームを一般化した n-クイーン問題の解法について解説します。\n",
        "\n",
        "## n-クイーン問題のルール\n",
        "\n",
        "[エイト・クイーン](https://ja.wikipedia.org/wiki/%E3%82%A8%E3%82%A4%E3%83%88%E3%83%BB%E3%82%AF%E3%82%A4%E3%83%BC%E3%83%B3)は、チェス盤上で8個のクイーンをどの駒からも取られることのないように配置するゲームです。\n",
        "チェス盤は $8\\times8$ のグリッドで、クイーンは上下左右斜めの八方向いずれかにいくらでも進むことができます。 ([クイーンの動き](https://ja.wikipedia.org/wiki/%E3%82%AF%E3%82%A4%E3%83%BC%E3%83%B3_(%E3%83%81%E3%82%A7%E3%82%B9)))。\n",
        "\n",
        "このゲームを一般化した「n-クイーン」は、$n\\times n$ のグリッド上で $n$ 個のクイーンを他のどの駒からも取られることのないように配置するゲームです。クイーンは $8\\times8$ のチェス盤の場合と同じ動きをするものとします。\n",
        "\n",
        "ここでは、n-クイーンをアニーリングマシンによる最適化によって解く方法を扱います。"
      ]
    },
    {
      "cell_type": "markdown",
      "metadata": {
        "id": "DjUUGBQEmZhi"
      },
      "source": [
        "## n-クイーンの定式化\n",
        "\n",
        "まず、アニーリングマシンでこの問題を扱うために、ゲームのルールを QUBO 変数を用いた定式化を行います。\n",
        "\n",
        "n-クイーンは以下の2つのタイプのルールによって表現されます。\n",
        "\n",
        "1. クイーンの数は $n$ 個\n",
        "2. 各クイーンが動ける範囲には他のクイーンが配置されない\n",
        "\n",
        "次に、このルールをQUBO 変数を用いた制約条件として表すことを考えます。\n",
        "まず、$n\\times n$ のチェス盤の各マスに1つの変数を割り当てます。マスの位置を2つのインデックス $i,j=0,1,\\cdots, n-1$ を用いて $(i, j)$ と表し、そのマスに対応する変数を $q_{i, j}$ とします。\n",
        "QUBO 変数の意味は、$(i, j)$ のマスにクイーンが配置されている場合は$q_{i,j}=1$とし、$(i, j)$ のマスにどの駒も配置されていない場合は $q_{i,j}=0$ とします。\n",
        "\n",
        "ルール 1 は、盤面上の全ての変数を足し上げると、その合計は $n$ となるという制約条件と表すことができます。これは、$q_{i,j}=1$ となる QUBO 変数の数を数えたことに相当するので、盤面上のクイーンの数と等価です。\n",
        "\n",
        "ルール 2 は、$(i, j)$ のマスにクイーンが配置されている場合に、そのクイーンが動けるマスに対応する QUBO 変数を足し上げると $0$ となる制約条件として表すと、動けるマスに他のクイーンが一つも配置されていない条件と等価です。$(i, j)$ にクイーンが配置されていない場合は、特に制約条件を課す必要はありませんが、以下のようにして注意して扱う必要があります。\n",
        "マス $(i, j)$ にクイーンが「配置されている」/「配置されていない」の2つの場合を同時に表すには、$q_{i,j}$ に $(i, j)$ からクイーンが動けるマスに対応する変数の和を掛けたものが $0$ となる制約条件とします。$q_{i,j}=1$ の場合はそれらのマスの中に他のクイーンが一つもない条件となり、$q_{i,j}=0$ の場合はその値はそもそも $0$ となるので恒真的な条件式が満たされます。\n",
        "\n",
        "したがって、上記のルールの QUBO 変数による表現をまとめると、\n",
        "\n",
        "$$\n",
        "\\left\\{\n",
        "    \\begin{aligned}\n",
        "        &\\begin{split}\n",
        "            1. \\quad &\\sum_{i, j=0}^{n-1} q_{i,j}=n\n",
        "        \\end{split}\\\\\n",
        "        &\\begin{split}\n",
        "            2. \\quad &q_{i,j}\\times\\left(\\sum_{(k,l)\\in M(i,j)}q_{k,l}\\right) =0 \\quad \\text{for }(i,j)\\in \\text{ 全てのマス}\n",
        "        \\end{split}\\\\\n",
        "    \\end{aligned}\n",
        "\\right.\n",
        "$$\n",
        "\n",
        "となります。ここで、マス $(i,j)$ からクイーンが動ける全てのマスに対応するインデックスの集合を $M(i,j)$ としました。2. の条件については、全てのマスに対応する $(i,j)$ について、上記の条件を課すものとします。\n",
        "\n",
        "これで定式化が完了したので、次に実装を行います。\n"
      ]
    },
    {
      "cell_type": "markdown",
      "metadata": {
        "id": "4yYsUfiPmZhq"
      },
      "source": [
        "## 実装\n",
        "\n",
        "まず、$n=8$ として、チェス盤面のそれぞれのマスに対応する $n\\times n$ の array 型のQUBO 変数を以下のようにして生成します。"
      ]
    },
    {
      "cell_type": "code",
      "metadata": {
        "id": "RHBsC_VomZhu"
      },
      "source": [
        "! pip install -q amplify\n",
        "from amplify import BinarySymbolGenerator\n",
        "\n",
        "n = 8\n",
        "q = BinarySymbolGenerator().array(n, n)"
      ],
      "execution_count": null,
      "outputs": []
    },
    {
      "cell_type": "markdown",
      "metadata": {
        "id": "6X4i2T7bmZh2"
      },
      "source": [
        "上記の QUBO 変数を用いて、制約条件式を構築します。\n",
        "制約条件 2 では、マス $(i, j)$ にあるクイーンが動けるマスに対応する QUBO 変数の和を取る必要があるので、$(i, j)$ を引数として前述の QUBO 変数の和を計算する `queen_moves` という関数を用意しておくと便利です。\n",
        "\n",
        "制約条件 1 では、`equal_to` を用いて、全てのマスの変数の和が $n$ になるように制約条件を課します。\n",
        "制約条件 2 では、`equal_to` を用いて、定式化で与えられた式が $0$ になるように制約条件を課します。\n",
        "\n",
        "実装は以下のようになります。"
      ]
    },
    {
      "cell_type": "code",
      "metadata": {
        "id": "BA9ZemTVmZh5"
      },
      "source": [
        "from amplify import sum_poly\n",
        "from amplify.constraint import equal_to, penalty\n",
        "\n",
        "\n",
        "def queen_moves(i, j, q):\n",
        "    \"\"\"(i,j)からクイーンの動けるマスに対応する QUBO 変数の和を返却\n",
        "\n",
        "    Args:\n",
        "        i ([int]): チェス盤の横方向を指定する 0, .., n-1 のインデックス\n",
        "        j ([int]): チェス盤の縦方向を指定する 0, .., n-1 のインデックス\n",
        "        q ([amplify.BinaryPolyArray]): n x n の amplify.BinaryPolyArray で与えられる QUBO 変数\n",
        "\n",
        "    Returns:\n",
        "        [amplify.BinaryPoly]: (i,j)からクイーンの動けるマスに対応する QUBO 変数の和\n",
        "    \"\"\"\n",
        "    N = len(q)\n",
        "    moves = sum_poly([q[i, k] for k in range(N) if k != j])  # 左右\n",
        "    moves += sum_poly([q[k, j] for k in range(N) if k != i])  # 上下\n",
        "    moves += sum_poly(\n",
        "        [\n",
        "            q[i + k, j + k]\n",
        "            for k in range(-N, N)\n",
        "            if k != 0 and 0 <= i + k and i + k < N and 0 <= j + k and j + k < N\n",
        "        ]\n",
        "    )  # 斜め右下がり\n",
        "    moves += sum_poly(\n",
        "        [\n",
        "            q[i + k, j - k]\n",
        "            for k in range(-N, N)\n",
        "            if k != 0 and 0 <= i + k and i + k < N and 0 <= j - k and j - k < N\n",
        "        ]\n",
        "    )  # 斜め右上がり\n",
        "\n",
        "    return moves\n",
        "\n",
        "\n",
        "c_num_queens = equal_to(q.sum(), n)  # 制約条件 1\n",
        "c_queen_moves = [\n",
        "    equal_to(q[i, j] * queen_moves(i, j, q), 0) for i in range(n) for j in range(n)\n",
        "]  # 制約条件 2\n",
        "\n",
        "constraints = c_num_queens + sum(c_queen_moves)  # 全ての制約条件の和"
      ],
      "execution_count": null,
      "outputs": []
    },
    {
      "cell_type": "markdown",
      "metadata": {
        "id": "5tBYmwu_mZh_"
      },
      "source": [
        "次にクライアントとソルバの設定です。\n",
        "n-クイーンでは、コスト関数を導入せずに制約条件を課すことのみで最適化問題を解くので、制約条件を満たす解のエネルギー値は全て $0$ となります。\n",
        "Amplify SDK で、同じエネルギー値を持つ解を全て出力するためには、[`client.parameters.outputs.duplicate = True`](https://amplify.fixstars.com/ja/docs/reference/generated/amplify.client.FixstarsClientParametersOutputs.html?highlight=duplicate#amplify.client.FixstarsClientParametersOutputs.duplicate) に設定する必要があります。\n",
        "この問題では、複数のエネルギー値 $0$ の解が存在することが想定されるので、この設定を行い全ての解を見つけることを考えます。\n",
        "\n",
        "以下ではタイムアウトを1秒に設定しましたが、場合に応じでタイムアウトの値を十分に大きく取る必要があります。この問題の場合は、1秒のタイムアウトで、現状では $n=10$ 程度までのサイズの問題の全ての解を見つけることができます。"
      ]
    },
    {
      "cell_type": "code",
      "metadata": {
        "id": "iwfmLw0bmZiD"
      },
      "source": [
        "from amplify import Solver\n",
        "from amplify.client import FixstarsClient\n",
        "\n",
        "client = FixstarsClient()\n",
        "client.token = \"トークンを入力してください\"\n",
        "client.parameters.timeout = 1000  # タイムアウト1秒\n",
        "client.parameters.outputs.duplicate = True  # 制約条件を満たすエネルギー 0 の解を全て出力\n",
        "\n",
        "solver = Solver(client)"
      ],
      "execution_count": null,
      "outputs": []
    },
    {
      "cell_type": "markdown",
      "metadata": {
        "id": "esV8hA2pmZiG"
      },
      "source": [
        "ソルバの設定が済めば、先ほど構築した `constraints` を `solver` の `solver` メソッドに渡すことで、解を得ることができます。"
      ]
    },
    {
      "cell_type": "code",
      "metadata": {
        "id": "X77YCyEZmZiK"
      },
      "source": [
        "result = solver.solve(constraints)\n",
        "\n",
        "if len(result.solutions) == 0:\n",
        "    print(\"解が1つも見つかりませんでした。\")\n",
        "else:\n",
        "    print(f\"解の個数: {len(result.solutions)}\")"
      ],
      "execution_count": null,
      "outputs": []
    },
    {
      "cell_type": "markdown",
      "metadata": {
        "id": "HFTbnA5jmZiN"
      },
      "source": [
        "[エイト・クイーンのウェブサイト](https://ja.wikipedia.org/wiki/%E3%82%A8%E3%82%A4%E3%83%88%E3%83%BB%E3%82%AF%E3%82%A4%E3%83%BC%E3%83%B3)によると、$n=8$ の場合は $92$ 個の解がありますが、上の結果からも解の個数が $92$ となることが確認できます。\n",
        "\n",
        "得られた解がどのような盤面に対応するかをチェックするには、"
      ]
    },
    {
      "cell_type": "code",
      "metadata": {
        "id": "cZvZLYjLmZiQ"
      },
      "source": [
        "def board(q_values):\n",
        "    \"\"\"QUBO変数とその解から、盤面を可視化する\n",
        "\n",
        "    Args:\n",
        "        q_values ([numpy.ndarray]): N x N の QUBO 変数 array に解を代入したもの\n",
        "    \"\"\"\n",
        "    N = len(q_values)\n",
        "    sol_str = (\n",
        "        \"\".join([\"\".join(map(str, map(int, q_values[i]))) for i in range(N)])\n",
        "        .replace(\"1\", \"♕\")\n",
        "        .replace(\"0\", \"　\")\n",
        "    )\n",
        "    hor = \"     \".join([chr(ord(\"ａ\") + i) for i in range(N)])\n",
        "    print(f\"       {hor}\")\n",
        "    print(f\"    {''.join(['-' for _ in range(7 * N + 1)])}\")\n",
        "    for i in range(N):\n",
        "        line = f\"{N - i}\".rjust(2)\n",
        "        line += \"  |  \"\n",
        "        line += \"  |  \".join(list(sol_str[i * N : (i + 1) * N]))\n",
        "        line += \"  |\"\n",
        "        print(line)\n",
        "        print(f\"    {''.join(['-' for _ in range(7 * N + 1)])}\")\n",
        "\n",
        "\n",
        "#\n",
        "# 全ての解を QUBO 変数の array に代入し、リストに格納\n",
        "#\n",
        "q_values_list = [q.decode(sol.values) for sol in result.solutions]"
      ],
      "execution_count": null,
      "outputs": []
    },
    {
      "cell_type": "markdown",
      "metadata": {
        "id": "J753E4DamZiT"
      },
      "source": [
        "例えば、$1$ 番目の解を確認したい場合は、以下のようにします。"
      ]
    },
    {
      "cell_type": "code",
      "metadata": {
        "id": "bsUXmmhqmZiV"
      },
      "source": [
        "board(q_values_list[1])"
      ],
      "execution_count": null,
      "outputs": []
    },
    {
      "cell_type": "markdown",
      "metadata": {
        "id": "nmW7-oZNmZiX"
      },
      "source": [
        "上記の例は、$n=8$ に設定した エイト・クイーンの場合でしたが、$n$ の値を変更し、n-クイーン問題の解が実際に得られるかを確認してみましょう。"
      ]
    }
  ]
}