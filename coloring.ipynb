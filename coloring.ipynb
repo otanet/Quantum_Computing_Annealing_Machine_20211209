{
  "cells": [
    {
      "cell_type": "markdown",
      "metadata": {
        "id": "view-in-github",
        "colab_type": "text"
      },
      "source": [
        "<a href=\"https://colab.research.google.com/github/otanet/Quantum_Computing_Annealing_Machine_20211209/blob/main/coloring.ipynb\" target=\"_parent\"><img src=\"https://colab.research.google.com/assets/colab-badge.svg\" alt=\"Open In Colab\"/></a>"
      ]
    },
    {
      "cell_type": "markdown",
      "metadata": {
        "id": "yNxwDhqxt3NZ"
      },
      "source": [
        "# Graph Coloring\n",
        "\n",
        "Amplify を用いたグラフ彩色問題の解法について解説します。\n",
        "\n",
        "\n",
        "## グラフ彩色問題の定式化\n",
        "\n",
        "\n",
        "グラフ彩色問題とは、あるグラフが与えられたときに、与えられた制約条件の下でその頂点などに色を割り当てる問題です。最も典型的な問題は頂点に対して隣接する頂点同士別の色で塗り分ける問題です。\n",
        "\n",
        "![200px-Petersen_graph_3-coloring.svg.png](https://upload.wikimedia.org/wikipedia/commons/thumb/9/90/Petersen_graph_3-coloring.svg/200px-Petersen_graph_3-coloring.svg.png)\n",
        "\n",
        "平面グラフ (地図) においては、隣接する領域同士においてどんな場合でも四色あれば塗り分けられるという [四色定理](https://en.wikipedia.org/wiki/Four_color_theorem) が知られています。しかしその塗り分け方法については自明ではありません。\n",
        "\n",
        "グラフ彩色問題にはいくつかの応用例が知られており、例えば、会議室・機械・タスクなどの割り当てに関するスケジューリング問題や、コンパイラによるレジスタ割り付け、携帯電話網における周波数割り当て等が挙げられます。今回は日本の都道府県に対して、イジングマシンを用いた塗り分けを行います。\n",
        "\n",
        "イジングマシンを用いるためにグラフの彩色状態に対して二値で表現する方法を考えます。次のように、各領域に対して四変数を用いて $0$ または $1$ を割り当てることで表現が可能です。\n",
        "\n",
        "| Region | Red | Green | Blue | Yellow |\n",
        "|--------|-----|-------|------|--------|\n",
        "| 1      | 0   | 0     | 1    | 0      |\n",
        "| 2      | 0   | 1     | 0    | 0      |\n",
        "| 3      | 0   | 0     | 1    | 0      |\n",
        "| 4      | 1   | 0     | 0    | 0      |\n",
        "\n",
        "    \n",
        "この例では領域 $1$ に青、領域 $2$ に緑、領域 $3$ に青、領域 $4$ に赤を割り当てることを意味しています。上記の表における各変数を領域のインデックス $i$ と色のインデックス $c$ を用いて、$q_{i,c}$ と表すことにします。必要な変数の数は領域数 $N$、 色数 $C$ に対して $NC$ となります。\n",
        "\n",
        "塗り分け問題の定義から変数の間には次の制約条件が課せられます。\n",
        "\n",
        "* 一領域を一色で塗る\n",
        "* 隣接する領域に対して同色で塗らない\n",
        "\n",
        "これらについて定式化を行うと次のように表されます。\n",
        "\n",
        "**制約条件**\n",
        "\n",
        "$$\n",
        "    \\sum_{c = 0}^{C-1}{ q_{i,c} } = 1 \\quad \\text{for} \\; i \\in \\left\\{0, 1, \\ldots, N - 1 \\right\\} \\\\\n",
        "    q_{i,c} q_{j,c} = 0 \\quad \\text{for} \\; (i, j) \\in E, \\; c \\in \\{0, 1, \\ldots, C-1\\}\n",
        "$$\n",
        "\n",
        "ここで $E$ はグラフ上の隣接している領域の組の集合を表します。後でプログラムコード化する都合により、変数のインデックスは $0$ からスタートしていることに注意してください。\n"
      ]
    },
    {
      "cell_type": "markdown",
      "metadata": {
        "id": "qbxD5Fact3Nj"
      },
      "source": [
        "## 問題の作成\n",
        "\n",
        "日本地図を扱うために Python の [japanmap](https://pypi.org/project/japanmap/) モジュールを使用します。都道府県コード ( $1 \\sim{} 47$) を用いて都道府県名や隣接情報などを取得できます。\n",
        "\n",
        "まずは色の定義を行い、変数テーブルを用意します。"
      ]
    },
    {
      "cell_type": "code",
      "execution_count": null,
      "metadata": {
        "id": "mD1X4v_mt3Nl"
      },
      "outputs": [],
      "source": [
        "! pip install -q amplify japanmap"
      ]
    },
    {
      "cell_type": "code",
      "execution_count": null,
      "metadata": {
        "id": "S1b-OcpWt3Nn"
      },
      "outputs": [],
      "source": [
        "from amplify import BinarySymbolGenerator\n",
        "import japanmap as jm\n",
        "\n",
        "colors = [\"red\", \"green\", \"blue\", \"yellow\"]\n",
        "num_colors = len(colors)\n",
        "num_region = len(jm.pref_names) - 1  # 都道府県数を取得\n",
        "\n",
        "gen = BinarySymbolGenerator()\n",
        "q = gen.array(num_region, num_colors)"
      ]
    },
    {
      "cell_type": "code",
      "execution_count": null,
      "metadata": {
        "id": "JUnjuGzNt3No"
      },
      "outputs": [],
      "source": [
        "q"
      ]
    },
    {
      "cell_type": "markdown",
      "metadata": {
        "id": "It3kTxmpt3Np"
      },
      "source": [
        "次に制約条件を作成します。$1$ 領域を $1$ 色で塗る One-hot 制約 $\\sum_{c = 0}^{C-1}{ q_{i,c} } = 1$ は `amplify.constraint.one_hot` 関数を用いて作成することができます。\n",
        "隣りあう領域を異なる色で塗る制約 $q_{i,c} q_{j,c} = 0$ については、 `amplify.constraint.equal_to` 関数を用います。\n",
        "`japanmap.adjacent` 関数に都道府県コードを入力するとその都道府県に隣接する都道府県コードのリストを取得できます。\n",
        "`q` に対するインデックスと都道府県コードには $1$ だけ差分があるため注意してください。"
      ]
    },
    {
      "cell_type": "code",
      "execution_count": null,
      "metadata": {
        "id": "W20c27ZOt3Nq"
      },
      "outputs": [],
      "source": [
        "from amplify import sum_poly\n",
        "from amplify.constraint import one_hot, equal_to\n",
        "\n",
        "# 各領域が1色で塗られる制約\n",
        "reg_constraints = [one_hot(q[i]) for i in range(num_region)]\n",
        "\n",
        "# 隣接する領域を異なる色で塗る制約\n",
        "adj_constraints = [\n",
        "    # 都道府県コードと配列インデックスは1ずれているので注意\n",
        "    equal_to(q[i, c] * q[j - 1, c], 0)\n",
        "    for i in range(num_region)\n",
        "    for j in jm.adjacent(i + 1)  # j: 隣接している都道府県コード\n",
        "    if i + 1 < j\n",
        "    for c in range(num_colors)\n",
        "]\n",
        "\n",
        "constraints = sum(reg_constraints) + sum(adj_constraints)"
      ]
    },
    {
      "cell_type": "markdown",
      "metadata": {
        "id": "etcySzfct3Nr"
      },
      "source": [
        "## イジングマシンの実行\n",
        "\n",
        "イジングマシンのクライアントを作成しパラメータを設定します。その後ソルバーを作成しクライアントを設定します。"
      ]
    },
    {
      "cell_type": "code",
      "execution_count": null,
      "metadata": {
        "id": "e_EpRbztt3Ns"
      },
      "outputs": [],
      "source": [
        "from amplify import Solver\n",
        "from amplify.client import FixstarsClient\n",
        "\n",
        "client = FixstarsClient()\n",
        "client.parameters.timeout = 5000  # タイムアウト5秒\n",
        "client.token = \"トークンを入力してください\"\n",
        "\n",
        "solver = Solver(client)"
      ]
    },
    {
      "cell_type": "markdown",
      "metadata": {
        "id": "pTbO0kErt3Nt"
      },
      "source": [
        "制約条件から論理模型を作成し、次のようにしてイジングマシンを実行し結果を取得します。"
      ]
    },
    {
      "cell_type": "code",
      "execution_count": null,
      "metadata": {
        "id": "OYXeu1Put3Nu"
      },
      "outputs": [],
      "source": [
        "from amplify import BinaryQuadraticModel\n",
        "\n",
        "model = BinaryQuadraticModel(constraints)\n",
        "result = solver.solve(model)\n",
        "if len(result.solutions) == 0:\n",
        "    raise RuntimeError(\"Any one of constraints is not satisfied.\")\n",
        "\n",
        "values = result.solutions[0].values"
      ]
    },
    {
      "cell_type": "markdown",
      "metadata": {
        "id": "Xqd1MAXot3Nu"
      },
      "source": [
        "### Note\n",
        "\n",
        "もし ``result.solutions`` オブジェクトが空のリストの場合、制約条件を満たす解が得られなかったことを意味します。この場合はイジングマシンのパラメータの変更が必要です。"
      ]
    },
    {
      "cell_type": "markdown",
      "metadata": {
        "id": "CaVE819It3Nu"
      },
      "source": [
        "## 結果の解析\n",
        "\n",
        "`values` は入力変数と解の値のマッピングを表す辞書です。そのままでは評価しづらいので、次のようにして変数テーブル `q` と同一の形式にデコードします。"
      ]
    },
    {
      "cell_type": "code",
      "execution_count": null,
      "metadata": {
        "id": "zO9-5G-wt3Nv"
      },
      "outputs": [],
      "source": [
        "q_values = q.decode(values)"
      ]
    },
    {
      "cell_type": "markdown",
      "metadata": {
        "id": "RyvFToNAt3Ny"
      },
      "source": [
        "結果を ``{都道府県名: 色}`` の形式に変換します。まずは ``q_values`` の各行のうち値が1のインデックスを `numpy` の `np.where` 関数を用いて取得します。\n",
        "その後、`japanmap.pref_names` を用いて都道府県コードを都道府県名に変換し、都道府県名と色を格納した辞書を作成します。\n"
      ]
    },
    {
      "cell_type": "code",
      "execution_count": null,
      "metadata": {
        "id": "QATRCCuMt3Nz"
      },
      "outputs": [],
      "source": [
        "import numpy as np\n",
        "\n",
        "color_indices = np.where(q_values == 1)[1]\n",
        "color_map = {\n",
        "    jm.pref_names[i + 1]: colors[color_indices[i]] for i in range(len(color_indices))\n",
        "}"
      ]
    },
    {
      "cell_type": "code",
      "execution_count": null,
      "metadata": {
        "id": "jWJI48i1t3Nz"
      },
      "outputs": [],
      "source": [
        "color_map"
      ]
    },
    {
      "cell_type": "markdown",
      "metadata": {
        "id": "xCEAV7xut3N0"
      },
      "source": [
        "最後に得られた塗り分けを表示します。次のようにしてプロットされます。"
      ]
    },
    {
      "cell_type": "code",
      "execution_count": null,
      "metadata": {
        "id": "RcIo_4OAt3N0"
      },
      "outputs": [],
      "source": [
        "! pip install -q matplotlib\n",
        "%matplotlib inline"
      ]
    },
    {
      "cell_type": "code",
      "execution_count": null,
      "metadata": {
        "id": "Sy6laWa3t3N0"
      },
      "outputs": [],
      "source": [
        "import matplotlib.pyplot as plt\n",
        "\n",
        "plt.rcParams[\"figure.figsize\"] = 6, 6\n",
        "plt.imshow(jm.picture(color_map))\n",
        "plt.show()"
      ]
    },
    {
      "cell_type": "markdown",
      "metadata": {
        "id": "BiYDb3Ojt3N1"
      },
      "source": [
        "## プログラミング課題\n",
        "\n",
        "### 問題1\n",
        "色数を3色にすることを試みてみましょう。\n",
        "日本地図は3色で塗り分けられないので実行可能解は出力されず、\n",
        "デフォルトの設定では結果配列の長さが 0 になりますが、\n",
        "`solver.filter_solution=False` とすることで制約条件を満たしていない解も出力することができます。\n",
        "どのような解が出力されるか確認してください。"
      ]
    },
    {
      "cell_type": "code",
      "execution_count": null,
      "metadata": {
        "id": "_RKrWoCZt3N1"
      },
      "outputs": [],
      "source": [
        ""
      ]
    },
    {
      "cell_type": "markdown",
      "metadata": {
        "id": "qFCW2_39t3N1"
      },
      "source": [
        "### 問題2\n",
        "上下左右に隣り合うどの $2$ つのマスについてもそのマスに入っている $2$ 数が互いに素になるように、\n",
        "$1$ から $20$ までの数字を $4\\times 5$ のマス目に $1$ つずつ入れる方法を求めるプログラムを書いてください。"
      ]
    },
    {
      "cell_type": "code",
      "execution_count": null,
      "metadata": {
        "id": "UsXAAabMt3N1"
      },
      "outputs": [],
      "source": [
        ""
      ]
    }
  ],
  "metadata": {
    "language_info": {
      "name": "python",
      "pygments_lexer": "ipython3"
    },
    "colab": {
      "name": "coloring.ipynb",
      "provenance": [],
      "include_colab_link": true
    }
  },
  "nbformat": 4,
  "nbformat_minor": 0
}