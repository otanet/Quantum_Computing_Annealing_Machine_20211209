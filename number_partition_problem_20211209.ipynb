{
  "nbformat": 4,
  "nbformat_minor": 0,
  "metadata": {
    "language_info": {
      "name": "python",
      "pygments_lexer": "ipython3"
    },
    "colab": {
      "name": "number_partition_problem_20211209.ipynb",
      "provenance": [],
      "include_colab_link": true
    }
  },
  "cells": [
    {
      "cell_type": "markdown",
      "metadata": {
        "id": "view-in-github",
        "colab_type": "text"
      },
      "source": [
        "<a href=\"https://colab.research.google.com/github/otanet/Quantum_Computing_Annealing_Machine_20211209/blob/main/number_partition_problem_20211209.ipynb\" target=\"_parent\"><img src=\"https://colab.research.google.com/assets/colab-badge.svg\" alt=\"Open In Colab\"/></a>"
      ]
    },
    {
      "cell_type": "markdown",
      "metadata": {
        "id": "bRsPCiIDNRsz"
      },
      "source": [
        "# 数の分割問題\n",
        "\n",
        "$n$ 個の整数の集合 $A$ が\n",
        "\n",
        "$$\n",
        "A = \\{a_0, a_1, \\cdots, a_{n-1} \\}\n",
        "$$\n",
        "\n",
        "で与えられているとします。$A$ に属する数を二つの集合 $A_0$ と $A_1$ に分割し、それぞれに属する数の和が等しくなる状況を探索します。\n",
        "\n",
        "## 問題の定式化\n",
        "\n",
        "まず、$A_0$および$A_1$に属する数の和をそれぞれ $S_0$, $S_1$とすると、\n",
        "$$\n",
        "S_0 = \\sum_{a_i\\in A_0}a_i, \\quad S_1 = \\sum_{a_i\\in A_1}a_i\n",
        "$$\n",
        "となり、$S_1=S_0$ が求めるべき条件となります。\n",
        "\n",
        "集合 $A$ に属する $n$ 個のそれぞれの数字に対応した $n$ 個のバイナリ変数$\\{q_i\\}$もしくはイジング変数$\\{s_i\\}$を用意します。つまり、\n",
        "$$\n",
        "q_i \\in\\{1, 0\\}\\quad (i=0, 1, \\cdots, n-1) \\quad \\text{(Binary)}\n",
        "$$\n",
        "となるような$n$個の変数を用意するか、\n",
        "$$\n",
        "s_i \\in\\{1, -1\\}\\quad (i=0, 1, \\cdots, n-1) \\quad \\text{(Ising)}\n",
        "$$\n",
        "となるような$n$個の変数を用意します。\n",
        "これらの変数を用いて、$q_i = 1$ (あるいは $s_i=1$) の場合は $n_i$ は $A_1$ に属し、$q_i=0$ (あるいは $s_i=-1$) の場合は $n_i$ は $A_0$ に属するというように分割方法を表現することにします。  \n",
        "\n",
        "### 目的関数\n",
        "次に、目的関数を求めることを考えます。\n",
        "目的関数とは、バイナリ変数、もしくはイジング変数の関数であり、求めるべき条件が満たされた場合に最小値をとるような関数です。\n",
        "ここでは、 $S_0 = S_1$ の条件を満たす分割を探すため、目的関数を $(S_1 - S_0)^2$ とすると、条件が満たされた時に $0$ となり、最小値をとります。\n",
        "したがって、バイナリ変数、またはイジング変数を使うと、目的関数 $f$ は以下のように書き下すことができます。\n",
        "\n",
        "$$\n",
        "\\begin{align*}\n",
        "f &= \\left(S_1 - S_0\\right)^2\n",
        "= \\left(\\sum_{a_i\\in A_1}a_i - \\sum_{a_i\\in A_0}a_i\\right)^2\\\\\n",
        "&= \\left(\\sum_{i=0}^{n-1}q_ia_i - \\sum_{i=0}^{n-1}(1-q_i)a_i\\right)^2 = \\left(\\sum_{i=0}^{n-1}(2q_i -1)a_i\\right)^2 \\quad \\text{(Binary)}\\\\\n",
        "&= \\left(\\sum_{i=0}^{n-1} a_i s_i \\right)^2\\quad \\text{(Ising)}\n",
        "\\end{align*}\n",
        "$$\n",
        "\n",
        "1行目から2行目（3行目）への変換は、$q_i=1$ ($s_i=1$) または $q_i=0$ ($s_i=-1$) によって、$a_i$ は $A_1$ または $A_0$ に割り当てられることを使いました。$A_0$ と $A_1$ の分割でそれぞれの和が等しいと、$f=0$ となるので、$f$ の値を確認することで、条件を満たす分割がなされたかどうかを確かめることができます。\n",
        "\n",
        "これで問題が定式化できたので、次は実際にプログラムを実行して問題を解きます。"
      ]
    },
    {
      "cell_type": "markdown",
      "metadata": {
        "id": "F1OKCYaaNRs2"
      },
      "source": [
        "## 二値多項式の生成\n",
        "\n",
        "### 変数の生成\n",
        "\n",
        "まず、数の集合 $A$ のそれぞれの数字に対応する$n$個の二値変数を用意します。\n",
        "\n",
        "Amplify の `BinarySymbolGenerator()` を用いると、シンボリックな変数に対応したオブジェクトを生成する変数ジェネレータを作成することができます。\n",
        "この変数ジェネレータを用いて変数配列を生成するには、`array`メソッドの引数に変数の数を渡します。\n",
        "変数の数 $n$ は集合 $A$ の要素数とします。"
      ]
    },
    {
      "cell_type": "code",
      "metadata": {
        "id": "AgKhXRiPNRs3"
      },
      "source": [
        "! pip install -q amplify"
      ],
      "execution_count": null,
      "outputs": []
    },
    {
      "cell_type": "code",
      "metadata": {
        "id": "Fjt0sbliNRs5"
      },
      "source": [
        "from amplify import BinarySymbolGenerator\n",
        "\n",
        "# 数の集合Aに対応する数のリスト\n",
        "A = [2, 10, 3, 8, 5, 7, 9, 5, 3, 2]\n",
        "\n",
        "# 変数の数\n",
        "n = len(A)\n",
        "\n",
        "# バイナリ変数を生成\n",
        "gen = BinarySymbolGenerator()\n",
        "q = gen.array(n)"
      ],
      "execution_count": null,
      "outputs": []
    },
    {
      "cell_type": "code",
      "metadata": {
        "id": "V03kZKteNRs5"
      },
      "source": [
        "# 変数を確認\n",
        "q"
      ],
      "execution_count": null,
      "outputs": []
    },
    {
      "cell_type": "markdown",
      "metadata": {
        "id": "IUJPsquGNRs6"
      },
      "source": [
        "### 目的関数の構築\n",
        "\n",
        "次に、数のリスト $A$ と先ほど生成した変数を用いて、目的関数 $\\displaystyle\\left(\\sum_{i=0}^{n-1}(2q_i-1)a_i\\right)^2$ を構築します。目的関数は二次以下の項からなる多項式になっていることが確認できます。"
      ]
    },
    {
      "cell_type": "code",
      "metadata": {
        "id": "Xt6ufqPpNRs7"
      },
      "source": [
        "# 目的関数の構築\n",
        "f = 0\n",
        "for i in range(n):\n",
        "    f += (2 * q[i] - 1) * A[i]\n",
        "f = f ** 2\n",
        "\n",
        "# 目的関数を確認\n",
        "f"
      ],
      "execution_count": null,
      "outputs": []
    },
    {
      "cell_type": "markdown",
      "metadata": {
        "id": "jcVu7dpENRs8"
      },
      "source": [
        "Numpy に慣れている場合は、次のように配列同士の演算を用いると簡潔かつ高速に定式化が可能です。"
      ]
    },
    {
      "cell_type": "code",
      "metadata": {
        "id": "qcV0Sk3nNRs8"
      },
      "source": [
        "f = ((2 * q - 1) * A).sum() ** 2\n",
        "f"
      ],
      "execution_count": null,
      "outputs": []
    },
    {
      "cell_type": "markdown",
      "metadata": {
        "id": "H-XgSK_JNRs9"
      },
      "source": [
        "## イジングマシンの実行\n",
        "\n",
        "### クライアントの設定\n",
        "\n",
        "イジングマシンのクライアントを作成し、必要なパラメータを設定します。\n",
        "以下の設定では、最終的に取得できる解は一つになります。"
      ]
    },
    {
      "cell_type": "code",
      "metadata": {
        "id": "UMMK0v8YNRs-"
      },
      "source": [
        "from amplify.client import FixstarsClient\n",
        "\n",
        "# クライアントの設定\n",
        "client = FixstarsClient()\n",
        "client.token = \"トークンを入力してください\"\n",
        "client.parameters.timeout = 1000  # タイムアウト1秒"
      ],
      "execution_count": null,
      "outputs": []
    },
    {
      "cell_type": "markdown",
      "metadata": {
        "id": "kzfZ2i5eNRs-"
      },
      "source": [
        "次に、先ほど設定したクライアントからソルバーを作成し、`solve` 関数で問題を解きます。"
      ]
    },
    {
      "cell_type": "code",
      "metadata": {
        "id": "3eqrMDLwNRs_"
      },
      "source": [
        "from amplify import Solver\n",
        "\n",
        "solver = Solver(client)\n",
        "result = solver.solve(f)\n",
        "\n",
        "# 解が得られなかった場合、len(result.solutions) == 0\n",
        "if len(result.solutions) == 0:\n",
        "    raise RuntimeError(\"No solution was found\")\n",
        "\n",
        "energy = result.solutions[0].energy\n",
        "values = result.solutions[0].values"
      ],
      "execution_count": null,
      "outputs": []
    },
    {
      "cell_type": "code",
      "metadata": {
        "id": "1xWNw5XFNRs_"
      },
      "source": [
        "# エネルギー値 (f の最小値) を確認\n",
        "print(f\"f = {energy}\")\n",
        "\n",
        "# valuesを確認\n",
        "# 変数 s_i (i=0, 1, ..., N-1) の値を格納した辞書\n",
        "print(f\"values = {values}\")"
      ],
      "execution_count": null,
      "outputs": []
    },
    {
      "cell_type": "markdown",
      "metadata": {
        "id": "EETJBzZzNRtA"
      },
      "source": [
        "$f$ の最小値が $0$ となる解となっているので、条件を満たす解が見つかったことがわかります。\n",
        "\n",
        "見つかった解を元の変数 `q` と対応する形の配列にするには、 `decode` メソッドを使うと便利です。"
      ]
    },
    {
      "cell_type": "code",
      "metadata": {
        "id": "4j51d-Y4NRtA"
      },
      "source": [
        "solution = q.decode(values)\n",
        "solution"
      ],
      "execution_count": null,
      "outputs": []
    },
    {
      "cell_type": "markdown",
      "metadata": {
        "id": "CY36qk-oNRtA"
      },
      "source": [
        "最後に、得られた解を元に、集合 $A$ の数字を二つのグループに分割します。\n",
        "\n",
        "二つのリスト $A_0$ と $A_1$ を用意し、$0$ となっている $q_i$ に対応する数字は $A_0$に、そうでない数字は $A_1$ に割り振ります。"
      ]
    },
    {
      "cell_type": "code",
      "metadata": {
        "id": "1XcWj1n8NRtB"
      },
      "source": [
        "A0 = sorted([A[idx] for idx, val in enumerate(solution) if val != 1])\n",
        "A1 = sorted([A[idx] for idx, val in enumerate(solution) if val == 1])\n",
        "\n",
        "print(f\"A0 = {A0}\")\n",
        "print(f\"A1 = {A1}\")"
      ],
      "execution_count": null,
      "outputs": []
    },
    {
      "cell_type": "markdown",
      "metadata": {
        "id": "bJjfiQE8NRtB"
      },
      "source": [
        "$A_0$ と $A_1$ のそれぞれの数字の和が等しいことを確かめます。和は 27 となっていることが確認できます。"
      ]
    },
    {
      "cell_type": "code",
      "metadata": {
        "id": "XEA10IeVNRtB"
      },
      "source": [
        "print(f\"A0 = {sum(A0)}, A1 = {sum(A1)}\")"
      ],
      "execution_count": null,
      "outputs": []
    },
    {
      "cell_type": "markdown",
      "metadata": {
        "id": "GIhx9yKgNRtC"
      },
      "source": [
        "## 複数の解を得る方法\n",
        "\n",
        "先ほどの問題では、解を一つだけ得る方法を紹介しました。しかしながら、この問題では、条件を満たす解は複数個見つけることができます。この分割問題の設定では、条件は目的関数が $0$ であることと等価であるため、条件を満たす解が複数個ある場合は、エネルギー値が $0.0$ である解が複数個あるということになります。一部のマシンは、同じエネルギーを持つ解を複数得ることが出来ます。Fixstars Annealing Engine の場合はパラメータ `client.parameters.outputs.duplicate` を `True` に設定することで複数の解が出力されます。"
      ]
    },
    {
      "cell_type": "code",
      "metadata": {
        "id": "sgGTmOdENRtC"
      },
      "source": [
        "from amplify.client import FixstarsClient\n",
        "from amplify import Solver\n",
        "\n",
        "client = FixstarsClient()\n",
        "client.token = \"トークンを入力してください\"\n",
        "client.parameters.timeout = 1000  # タイムアウト1秒\n",
        "client.parameters.outputs.duplicate = True  # 同じエネルギー値の解を列挙するオプション（解が複数個あるため）\n",
        "\n",
        "solver = Solver(client)\n",
        "result = solver.solve(f)"
      ],
      "execution_count": null,
      "outputs": []
    },
    {
      "cell_type": "markdown",
      "metadata": {
        "id": "Ih48KCMfNRtC"
      },
      "source": [
        "解が複数個あることは以下のようにして確かめることができます。46個の解が見つかるはずです。"
      ]
    },
    {
      "cell_type": "code",
      "metadata": {
        "id": "k_z84Pt2NRtD"
      },
      "source": [
        "len(result.solutions)"
      ],
      "execution_count": null,
      "outputs": []
    },
    {
      "cell_type": "markdown",
      "metadata": {
        "id": "5Urey2XvNRtE"
      },
      "source": [
        "次に、見つけてきた複数の解を元の変数に代入して全ての分割を求めます。$(A_0, A_1)$ と $(A_1, A_0)$ の組合せを同一視する必要がある事に注意して下さい。"
      ]
    },
    {
      "cell_type": "code",
      "metadata": {
        "id": "E3HPGSgdNRtE"
      },
      "source": [
        "partitions = set()\n",
        "\n",
        "for s in result.solutions:\n",
        "    solution = q.decode(s.values)\n",
        "\n",
        "    A0 = tuple(sorted([A[idx] for idx, val in enumerate(solution) if val != 1]))\n",
        "    A1 = tuple(sorted([A[idx] for idx, val in enumerate(solution) if val == 1]))\n",
        "\n",
        "    # 同じ分割がすでにリストに含まれていない場合\n",
        "    if (A1, A0) not in partitions:\n",
        "        partitions.add((A0, A1))\n",
        "\n",
        "for p in partitions:\n",
        "    print(f\"sum = {sum(p[0])}, {sum(p[1])}, partition: {p}\")"
      ],
      "execution_count": null,
      "outputs": []
    },
    {
      "cell_type": "markdown",
      "metadata": {
        "id": "iCvyPd2sNRtE"
      },
      "source": [
        "## プログラミング課題\n",
        "\n",
        "### 課題1\n",
        "\n",
        "数の集合を変更して分割をおこなってください。もし等しい分割が可能ではない場合にはどのようになるか確認して下さい。\n",
        "\n",
        "等しい分割が可能であるような数の集合の例：$\\{1,2,3,5,8,13,21,34,55,89,144,233\\}$<br>\n",
        "等しい分割が可能でないような数の集合の例：$\\{3,1,4,1,5,9,2,6,5,3,5,8,9,7,9\\}$"
      ]
    },
    {
      "cell_type": "code",
      "metadata": {
        "id": "t9BMF3Y9NRtE"
      },
      "source": [
        ""
      ],
      "execution_count": null,
      "outputs": []
    },
    {
      "cell_type": "markdown",
      "metadata": {
        "id": "0r0VsDeSNRtE"
      },
      "source": [
        "### 課題2\n",
        "\n",
        "上記ではバイナリ変数を用いた定式化を行いましたが、イジング変数を用いた定式化を行い問題を解いて下さい。"
      ]
    },
    {
      "cell_type": "code",
      "metadata": {
        "id": "C9786ZlgNRtF"
      },
      "source": [
        ""
      ],
      "execution_count": null,
      "outputs": []
    },
    {
      "cell_type": "markdown",
      "metadata": {
        "id": "J223fNcbNRtF"
      },
      "source": [
        "### 課題3\n",
        "\n",
        "[部分和問題](https://ja.wikipedia.org/wiki/%E9%83%A8%E5%88%86%E5%92%8C%E5%95%8F%E9%A1%8C) とは、$n$ 個の整数の集合 $A=\\{a_0, a_1, \\cdots, a_n\\}$ と整数 $N$ が与えられた際に、$A$ の部分集合の和を $N$ に等しくなるように選ぶことができるかを判定する問題です。数の分割問題の定式化を参考にして部分和問題を解いて下さい。\n",
        "\n",
        "問題の例：$A=\\{1000000,200000,30000,4000,500,60,7\\}, \\quad N=1004507$"
      ]
    },
    {
      "cell_type": "code",
      "metadata": {
        "id": "GUFCyYsuNRtF"
      },
      "source": [
        ""
      ],
      "execution_count": null,
      "outputs": []
    }
  ]
}