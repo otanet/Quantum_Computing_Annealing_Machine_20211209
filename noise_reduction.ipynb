{
  "cells": [
    {
      "cell_type": "markdown",
      "metadata": {
        "id": "view-in-github",
        "colab_type": "text"
      },
      "source": [
        "<a href=\"https://colab.research.google.com/github/otanet/Quantum_Computing_Annealing_Machine_20211209/blob/main/noise_reduction.ipynb\" target=\"_parent\"><img src=\"https://colab.research.google.com/assets/colab-badge.svg\" alt=\"Open In Colab\"/></a>"
      ]
    },
    {
      "cell_type": "markdown",
      "metadata": {
        "id": "0NIYjn-9t1vC"
      },
      "source": [
        "# 画像のノイズリダクション"
      ]
    },
    {
      "cell_type": "markdown",
      "metadata": {
        "id": "eBY_PtMVt1vL"
      },
      "source": [
        "## 問題の概要\n",
        "\n",
        "アニーリングマシンを用いてノイズが加わった画像から元の画像の推定を行うことを考えます。\n",
        "\n",
        "下記の仮定に基づいてノイズ除去を試みます。\n",
        "\n",
        "*   元の画像とノイズの入った画像はほとんど一致することが多い\n",
        "*   元の画像では隣り合う画素は同じ色であることが多い\n",
        "\n",
        "ここでは簡単のため白黒画像を取り扱います。  \n",
        "画素のデータは黒と白の二値での表現が可能なので、各画素の値を二値変数を用いて表すことができます。  \n",
        "上記の仮定を表現する画素同士の相互作用を目的関数を用いて表現し、これを最適化することによって元の画像を推定することができます。\n",
        "\n",
        "## 目的関数の構築\n",
        "\n",
        "画素の集合を $V$ とし、各画素を表すインデックスを $i\\in V$ とします。  \n",
        "まず、入力画素を表すイジング変数を $y$ としそれぞれの色に対応する値を以下のように表します。\n",
        "\n",
        "$$\n",
        "y_{i} = \\left\\{\n",
        "\\begin{align}\n",
        "&+1 \\quad\\text{(白)}\\\\\n",
        "&-1 \\quad \\text{(黒)}\n",
        "\\end{align}\n",
        "\\right. \\quad\n",
        "i\\in V\\\\\n",
        "$$\n",
        "\n",
        "また、出力画素に対応した二値のイジング変数を以下のように表します。\n",
        "\n",
        "$$\n",
        "s_{i} = \\left\\{\n",
        "\\begin{align}\n",
        "&+1 \\quad\\text{(白)}\\\\\n",
        "&-1 \\quad \\text{(黒)}\n",
        "\\end{align}\n",
        "\\right. \\quad\n",
        "i\\in V\\\\\n",
        "$$\n",
        "\n",
        "入力画像と出力画像は概ね一致するという仮定 (ノイズがそれほど多くないという仮定) により、入力画素と出力画素は同じ値になるようにします。つまり、$s_i$ と $y_i$ は同じ値を持つときに値が小さくなるような目的関数を関数を導入します。例えば以下のように与えられます。\n",
        "\n",
        "$$\n",
        "f_1 = - \\sum_{i\\in V} y_{i} s_{i}\n",
        "$$\n",
        "\n",
        "$y_{i}$ と $s_{i}$ が同じ値を持つと 上記の目的関数の値は減少し、異なった値を持つと増加するので、全ての $i\\in V$ において $y_{i} = s_{i}$ である場合に $f_1$ は最小値をとります。しかしながら、入力画像にはノイズがのっているので、出力画像が入力画像と同じになってしまうとノイズを減らすことができません。\n",
        "\n",
        "そこで、隣り合う画素は同じ色になりやすいという仮定を考慮します。  \n",
        "隣り合う出力画素がなるべく同じ値を持つような関数を導入し、ノイズと思われる画素に対しその周りの画素の値と一致させることでノイズを減らすことを考えます。例えば以下のような関数が考えられます。\n",
        " \n",
        "$$\n",
        "f_2 = -\\sum_{(i,j)\\in E} s_i s_j\n",
        "$$\n",
        "\n",
        "ここで隣接する画素のペアの集合を $E$ としました。隣り合った出力画素が同じ値を持つとこの関数の値は減少します。したがって、全ての出力画素が同じ値を持つと $f_2$ は最小の値をとることがわかります。しかし、全ての画素が同じ値になってしまうと全てが白または黒の画像になってしまうので、元の画像の情報が失われてしまいます。\n",
        "\n",
        "そこで、$f_1$ と $f_2$ を適切に足し合わせることで、出力画像が入力画像と近い値をとりつつノイズと思われる画素のみ除去することを試みます。\n",
        "\n",
        "$$\n",
        "\\begin{align}\n",
        "f & = f_1 + \\eta f_2\\\\\n",
        "&=- \\sum_{i\\in V}y_is_i - \\eta \\sum_{(i,j)\\in E}s_i s_j\n",
        "\\end{align}\n",
        "$$\n",
        "\n",
        "ここで、$\\eta>0$ というパラメータを導入しました。これにより $f_1$ と $f_2$ の強さの調整が出来ます。$\\eta$ が大きいほどノイズ除去を行う項が強いことを意味しています。\n",
        "\n",
        "この目的関数を最小化しイジング変数 $s$ の値を画素の値と解釈することで、ノイズを除去した画像が得られます。\n",
        "\n",
        "\n",
        "## 参考\n",
        "* [Annealing Cloud Web: デモアプリ](https://annealing-cloud.com/ja/play/demoapp/noise.html)\n",
        "* [Annealing Cloud Web: 画像のノイズリダクション解説](https://annealing-cloud.com/ja/tutorial/2.html)"
      ]
    },
    {
      "cell_type": "markdown",
      "metadata": {
        "id": "RV8R5t0It1vO"
      },
      "source": [
        "## 必要なライブラリのインストール"
      ]
    },
    {
      "cell_type": "code",
      "execution_count": null,
      "metadata": {
        "id": "cmwzyeIIt1vQ"
      },
      "outputs": [],
      "source": [
        "! pip install -q amplify\n",
        "! pip install -q matplotlib\n",
        "! pip install -q Pillow"
      ]
    },
    {
      "cell_type": "markdown",
      "metadata": {
        "id": "Sd_yHwptt1vS"
      },
      "source": [
        "## 画像の読み込み\n",
        "\n",
        "まずは、画像データをダウンロードする関数と、ダウンロードした画像をイジング変数配列に変換する関数を定義します。"
      ]
    },
    {
      "cell_type": "code",
      "execution_count": null,
      "metadata": {
        "id": "4r--0u3Mt1vT"
      },
      "outputs": [],
      "source": [
        "import os\n",
        "from PIL import Image\n",
        "import numpy as np\n",
        "import matplotlib.pyplot as plt\n",
        "import urllib.error\n",
        "import urllib.request\n",
        "\n",
        "# 画像をダウンロードして保存\n",
        "def download_image_file(url, dst_path):\n",
        "    try:\n",
        "        with urllib.request.urlopen(url) as web_file:\n",
        "            data = web_file.read()\n",
        "            with open(dst_path, mode=\"wb\") as local_file:\n",
        "                local_file.write(data)\n",
        "    except urllib.error.URLError as e:\n",
        "        print(e)\n",
        "\n",
        "\n",
        "def get_ising_img_array(path, max_size=196, threshold=128):\n",
        "    # 画像を読み込む\n",
        "    img = Image.open(path)\n",
        "\n",
        "    # 画像をリサイズ\n",
        "    width, height = img.size\n",
        "    if width > max_size or height > max_size:\n",
        "        img.thumbnail((max_size, max_size), Image.ANTIALIAS)\n",
        "\n",
        "    # グレースケールに変換しイジング変数配列に格納\n",
        "    # 二値に分ける閾値は threshold 引数で変更可能\n",
        "    return np.where(np.array(img.convert(\"L\")) >= threshold, 1, -1)"
      ]
    },
    {
      "cell_type": "markdown",
      "metadata": {
        "id": "L0EzJPW3t1vV"
      },
      "source": [
        "画像をダウンロードします。  \n",
        "以下の例ではレナ画像を Wikipedia からダウンロードします。  \n",
        "任意の画像のURLに変更も可能です。"
      ]
    },
    {
      "cell_type": "code",
      "execution_count": null,
      "metadata": {
        "id": "SvJe1xY4t1vW"
      },
      "outputs": [],
      "source": [
        "url = \"https://upload.wikimedia.org/wikipedia/en/7/7d/Lenna_(test_image).png\"\n",
        "dst_path = \"web_fig.png\"  # 画像の保存先\n",
        "download_image_file(url, dst_path)"
      ]
    },
    {
      "cell_type": "markdown",
      "metadata": {
        "id": "CRdhK8q9t1vX"
      },
      "source": [
        "保存した画像をイジング変数配列に変換します。"
      ]
    },
    {
      "cell_type": "code",
      "execution_count": null,
      "metadata": {
        "id": "3UYAgwhYt1vZ"
      },
      "outputs": [],
      "source": [
        "# 元画像のイジング配列を作成\n",
        "x = get_ising_img_array(dst_path)\n",
        "plt.imshow(x, cmap=\"gray\")\n",
        "plt.show()\n",
        "print(x.shape)\n",
        "print(x)"
      ]
    },
    {
      "cell_type": "markdown",
      "metadata": {
        "id": "bjwL5I6Ct1va"
      },
      "source": [
        "## ノイズ画像の作成\n",
        "\n",
        "次に、画素を無作為に選びその値を反転することでノイズを表現する関数を定義します。"
      ]
    },
    {
      "cell_type": "code",
      "execution_count": null,
      "metadata": {
        "id": "Z5_6uyyAt1vb"
      },
      "outputs": [],
      "source": [
        "def get_noisy_img_array(img_array):\n",
        "    # 2次元配列を1次元に変換して扱いやすくする\n",
        "    img_shape = img_array.shape\n",
        "    flattened_img = img_array.flatten()\n",
        "\n",
        "    # 最大値と最小値を入れ替える関数を定義\n",
        "    min_v = min(flattened_img)\n",
        "    max_v = max(flattened_img)\n",
        "\n",
        "    def invert_value(v):\n",
        "        return min_v + max_v - v\n",
        "\n",
        "    # ノイズの割合\n",
        "    ratio = 0.02\n",
        "\n",
        "    # ノイズをのせる画素をランダムに選択して反転\n",
        "    for idx in np.random.choice(len(flattened_img), int(ratio * len(flattened_img))):\n",
        "        flattened_img[idx] = invert_value(flattened_img[idx])\n",
        "\n",
        "    # 元の配列の形に戻す\n",
        "    return flattened_img.reshape(*img_shape)"
      ]
    },
    {
      "cell_type": "code",
      "execution_count": null,
      "metadata": {
        "id": "903pmf3Xt1vc"
      },
      "outputs": [],
      "source": [
        "# ノイズ画像のイジング配列を作成\n",
        "y = get_noisy_img_array(x)\n",
        "plt.imshow(y, cmap=\"gray\")\n",
        "plt.show()\n",
        "print(y.shape)\n",
        "print(y)"
      ]
    },
    {
      "cell_type": "markdown",
      "metadata": {
        "id": "enYCTpEBt1vd"
      },
      "source": [
        "## イジング変数配列の作成\n",
        "\n",
        "次に、イジング変数の配列 `s` を生成します。入力画像のデータ `y` を $h \\times w$ の2次元配列とすると、出力画像に対応するイジング変数 `s` も 同じく $h \\times w$ の2次元配列となります。\n",
        "\n",
        "変数の生成には [`SymbolGenerator`](https://amplify.fixstars.com/ja/docs/polynomial.html?#polynomial-symbol-generator) を使います。ここでは、最終的にイジング変数の多項式が目的関数となるので、変数の種類を [`IsingPoly`](https://amplify.fixstars.com/ja/docs/polynomial.html?#id1) に指定します。[`SymbolGenerator`](https://amplify.fixstars.com/ja/docs/polynomial.html?#polynomial-symbol-generator) では、入力画像のデータ `y` と同じ配列の形で作成することが可能なので、この機能を使うと目的関数の計算に便利です。"
      ]
    },
    {
      "cell_type": "code",
      "execution_count": null,
      "metadata": {
        "id": "COtV3Gbst1ve"
      },
      "outputs": [],
      "source": [
        "from amplify import IsingSymbolGenerator, IsingPoly, einsum\n",
        "\n",
        "# h x w の配列の形にイジング変数を生成\n",
        "gen = IsingSymbolGenerator()\n",
        "s = gen.array(y.shape)"
      ]
    },
    {
      "cell_type": "markdown",
      "metadata": {
        "id": "ZwEEPzHCt1ve"
      },
      "source": [
        "## 目的関数\n",
        "\n",
        "入力画像データの配列 $y$ と出力画像に対応したイジング変数配列 $s$ を用いて、目的関数を構築します。\n",
        "\n",
        "### 課題1\n",
        "\n",
        "下記のコメント部分を実装して目的関数を計算して下さい。和の記号は行方向`h`と列方向`w`の両方に必要な事に注意して下さい。\n",
        "\n",
        "ヒント: [多項式の演算子](https://amplify.fixstars.com/ja/docs/polynomial.html?#id3) を参考に構築してみましょう。"
      ]
    },
    {
      "cell_type": "code",
      "execution_count": null,
      "metadata": {
        "id": "8G_kz9TPt1vf"
      },
      "outputs": [],
      "source": [
        "# 画像のシェイプを取得\n",
        "h, w = y.shape\n",
        "\n",
        "# 強度パラメータ\n",
        "eta = 0.333\n",
        "\n",
        "# 目的関数を f を計算\n",
        "# (f1とf2を下記のコメントに沿って生成)\n",
        "\n",
        "# - \\sum_{i\\in V} y_{i} s_{i}\n",
        "# f1 = IsingPoly()\n",
        "# for i in range(h):\n",
        "#     for j in range(w):\n",
        "#         f1 -= s[i, j] * ...\n",
        "\n",
        "# -\\sum_{(i,j)\\in E} s_i s_j\n",
        "# f2 = IsingPoly()\n",
        "# for i in range(h):\n",
        "#     for j in range(w):\n",
        "#         f2 -= s[i, j] * ...\n",
        "f = f1 + eta * f2"
      ]
    },
    {
      "cell_type": "markdown",
      "metadata": {
        "id": "IKl__D0_t1vf"
      },
      "source": [
        "また、`sum` メソッドや [`einsum` 関数](https://amplify.fixstars.com/ja/docs/polynomial.html?#polynomial-einsum) を用いることによって、以下のように記述することもできます。"
      ]
    },
    {
      "cell_type": "code",
      "execution_count": null,
      "metadata": {
        "id": "NbkkMIh3t1vg"
      },
      "outputs": [],
      "source": [
        "# f1 = -(y * s).sum()\n",
        "# もしくは\n",
        "# f1 = -einsum(\"ij,ij->\", y, s)\n",
        "\n",
        "# s_col_roll = s.roll(-1, 1)\n",
        "# for i in range(s_col_roll.shape[0]):\n",
        "#     s_col_roll[i, -1] = IsingPoly(0)\n",
        "#\n",
        "# s_row_roll = s.roll(-1, 0)\n",
        "# for i in range(s_row_roll.shape[1]):\n",
        "#     s_row_roll[-1, i] = IsingPoly(0)\n",
        "\n",
        "# f2 = - (s * s_col_roll).sum() - (s * s_row_roll).sum()\n",
        "# もしくは\n",
        "# f2 = - einsum(\"ij,ij->\", s, s_col_roll) - einsum(\"ij,ij->\", s, s_row_roll)"
      ]
    },
    {
      "cell_type": "markdown",
      "metadata": {
        "id": "4JiHdY6lt1vg"
      },
      "source": [
        "## クライアントの設定とマシンの実行\n",
        "\n",
        "次にクライアントを設定し、先ほど与えたコスト関数の最小値に対応する解をイジングマシンで探索します。"
      ]
    },
    {
      "cell_type": "code",
      "execution_count": null,
      "metadata": {
        "id": "IGx-GrOjt1vh"
      },
      "outputs": [],
      "source": [
        "from amplify.client import FixstarsClient\n",
        "from amplify import Solver\n",
        "\n",
        "# クライアントの設定\n",
        "client = FixstarsClient()\n",
        "client.parameters.timeout = 1000  # タイムアウト1秒\n",
        "client.token = \"トークンを入力してください\"\n",
        "\n",
        "# ソルバの設定と結果の取得\n",
        "solver = Solver(client)\n",
        "result = solver.solve(f)"
      ]
    },
    {
      "cell_type": "markdown",
      "metadata": {
        "id": "vYIpe8bFt1vh"
      },
      "source": [
        "## 解の取得と結果の表示\n",
        "\n",
        "最後に、得られた解を元のイジング変数 $s$ に代入し、出力画像のデータを取得します。\n",
        "\n",
        "入力画像と比較するとノイズが減少したことが確認できます。"
      ]
    },
    {
      "cell_type": "code",
      "execution_count": null,
      "metadata": {
        "id": "9akQ9gxYt1vi"
      },
      "outputs": [],
      "source": [
        "# 解の取得\n",
        "values = result.solutions[0].values\n",
        "\n",
        "# イジング変数に解を代入\n",
        "output = s.decode(values, 1)\n",
        "\n",
        "plt.imshow(output, cmap=\"gray\")  # 復元画像\n",
        "plt.show()\n",
        "\n",
        "plt.imshow(x, cmap=\"gray\")  # 元画像\n",
        "plt.show()\n",
        "\n",
        "plt.imshow(y, cmap=\"gray\")  # ノイズ画像\n",
        "plt.show()"
      ]
    },
    {
      "cell_type": "markdown",
      "metadata": {
        "id": "-D63jsJpt1vj"
      },
      "source": [
        "## 発展課題\n",
        "\n",
        "### 課題2\n",
        "\n",
        "ダウンロードする画像を変更して正常に実行されるか確認して下さい\n",
        "\n",
        "### 課題3\n",
        "\n",
        "ノイズ量やノイズ除去の強さを変更して結果がどのように変化するかを確認して下さい"
      ]
    },
    {
      "cell_type": "code",
      "execution_count": null,
      "metadata": {
        "id": "LeJXqAzWt1vj"
      },
      "outputs": [],
      "source": [
        ""
      ]
    }
  ],
  "metadata": {
    "language_info": {
      "name": "python",
      "pygments_lexer": "ipython3"
    },
    "colab": {
      "name": "noise_reduction.ipynb",
      "provenance": [],
      "include_colab_link": true
    }
  },
  "nbformat": 4,
  "nbformat_minor": 0
}