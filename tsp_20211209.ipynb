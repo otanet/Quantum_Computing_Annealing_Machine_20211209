{
  "cells": [
    {
      "cell_type": "markdown",
      "metadata": {
        "id": "view-in-github",
        "colab_type": "text"
      },
      "source": [
        "<a href=\"https://colab.research.google.com/github/otanet/Quantum_Computing_Annealing_Machine_20211209/blob/main/tsp_20211209.ipynb\" target=\"_parent\"><img src=\"https://colab.research.google.com/assets/colab-badge.svg\" alt=\"Open In Colab\"/></a>"
      ]
    },
    {
      "cell_type": "markdown",
      "metadata": {
        "id": "hXJbCOovt6fi"
      },
      "source": [
        "# Travelling Salesman Problem\n",
        "\n",
        "Amplify を用いた巡回セールスマン問題の解法について解説します。\n",
        "\n",
        "## 巡回セールスマン問題の定式化\n",
        "\n",
        "[巡回セールスマン問題](https://en.wikipedia.org/wiki/Travelling_salesman_problem) とは、いくつかの都市からなる集合とそれぞれの都市間の距離が与えられたときに、\n",
        "全ての都市を通ってはじめの都市に戻ってくる巡回路のうち、移動距離の合計が最小となるものを求める組合せ最適化問題です。\n",
        "\n",
        "\n",
        "![240px-GLPK_solution_of_a_travelling_salesman_problem.svg.png](https://upload.wikimedia.org/wikipedia/commons/thumb/1/11/GLPK_solution_of_a_travelling_salesman_problem.svg/240px-GLPK_solution_of_a_travelling_salesman_problem.svg.png)\n",
        "\n",
        "イジングマシンを用いるためには通る都市の順番を二値多変数多項式で表す必要があります。\n",
        "\n",
        "そのために、都市数を $N$ として、$N\\times N$ の変数テーブルを用意します。変数テーブルの各行は都市を何番目に通るかに対応し、各列は各都市に対応します。\n",
        "テーブルの各要素にバイナリ変数を割り当て、$n$行$i$列にある変数が$1$となっているとき、セールスマンは$n$番目に$i$番目の都市を通ると解釈します。\n",
        "\n",
        "例えば、4都市の場合、経路 $A\\rightarrow C\\rightarrow B\\rightarrow D \\rightarrow A$ を表現するには、次のような $4\\times 4$ の表を用意します。\n",
        "\n",
        "| turn| A | B | C | D |\n",
        "|-----|---|---|---|---|\n",
        "| 1st | 1 | 0 | 0 | 0 |\n",
        "| 2nd | 0 | 0 | 1 | 0 |\n",
        "| 3rd | 0 | 1 | 0 | 0 |\n",
        "| 4th | 0 | 0 | 0 | 1 |\n",
        "\n",
        "\n",
        "上記の表における各変数を経路の順番 $n$ と都市のインデックス $i$ を用いて$q_{n,i}$ と表すことにし、\n",
        "都市 $i$ と都市 $j$ の間の移動距離を $d_{ij}$ と表します。\n",
        "\n",
        "このとき、総移動距離は\n",
        "\n",
        "$$\n",
        "\\sum_{n=0}^{N-1}{\\sum_{i=0}^{N-1}{\\sum_{j=0}^{N-1}{ d_{ij} q_{n, i} q_{n+1, j} }}}\n",
        "$$\n",
        "\n",
        "で表されます。\n",
        "\n",
        "後でプログラムコード化する都合により、インデックスは $0$ からスタートしていることに注意してください。\n",
        "また、$n=N-1$ の場合に $n+1=N$ となってインデックスがはみ出てしまいますが、$q_N=q_0$ だと思うことにより、最後の都市から最初の都市への移動距離だと解釈することができます。\n",
        "実装するときは、インデックスを $N$ で割った余りを使用することにします。\n",
        "\n",
        "しかしこれだけでは定式化として不十分です。なぜなら、上記の変数テーブルは「全ての都市を通る」という制約と「同時に一つだけ通る」という制約が考慮されていないためです。\n",
        "極端な例として、最初の都市から動かないという組合せも許されています。そこで変数テーブルの全ての行と列に対して次のような制約を課します。\n",
        "\n",
        "$$\n",
        "    \\sum_{i=0}^{N-1}{q_{n, i}} = 1 \\quad n \\in \\left\\{0, 1, \\cdots, N - 1 \\right\\}\n",
        "$$\n",
        "$$\n",
        "    \\sum_{n=0}^{N-1}{q_{n, i}} = 1 \\quad i \\in \\left\\{0, 1, \\cdots, N - 1 \\right\\}\n",
        "$$\n",
        "\n",
        "これは変数テーブルの取り得る値のうち、各行と各列に $1$ がちょうど $1$ 回しか現れない制約を意味します。\n",
        "各行に $1$ がちょうど $1$ 回現れる制約はセールスマンが $1$ 度に訪れる都市は $1$ つであるという条件に対応し、\n",
        "各列に  $1$ がちょうど $1$ 回現れる制約は各都市をちょうど $1$ 回ずつ訪れるという条件に対応しています。\n",
        "\n",
        "上記をまとめると、次の二値多変数多項式の最小値を求めれば良いことがわかりました。\n",
        "\n",
        "- コスト関数\n",
        "$$\n",
        "\\sum_{n=0}^{N-1}{\\sum_{i=0}^{N-1}{\\sum_{j=0}^{N-1}{ d_{ij} q_{n, i} q_{n+1, j} }}}\n",
        "$$\n",
        "\n",
        "- 制約条件\n",
        "$$\n",
        "    \\sum_{i=0}^{N-1}{q_{n, i}} = 1 \\quad n \\in \\left\\{0, 1, \\cdots, N - 1 \\right\\}\n",
        "$$\n",
        "$$\n",
        "    \\sum_{n=0}^{N-1}{q_{n, i}} = 1 \\quad i \\in \\left\\{0, 1, \\cdots, N - 1 \\right\\}\n",
        "$$\n"
      ]
    },
    {
      "cell_type": "markdown",
      "metadata": {
        "id": "XUajPOH1t6fq"
      },
      "source": [
        "## 問題の生成\n",
        "\n",
        "まず巡回セールスマン問題の入力となる、各都市間の距離を作成します。ここでは `numpy` を用いて、二次元平面上のランダムな位置に都市を配置して距離行列を生成します。次のように、都市数を与えることでランダムな巡回セールスマン問題を生成する関数を作成しました。"
      ]
    },
    {
      "cell_type": "code",
      "execution_count": null,
      "metadata": {
        "id": "ZB-3-WX9t6fs"
      },
      "outputs": [],
      "source": [
        "! pip install -q numpy"
      ]
    },
    {
      "cell_type": "code",
      "execution_count": null,
      "metadata": {
        "id": "4gkZfbx5t6fv"
      },
      "outputs": [],
      "source": [
        "import numpy as np\n",
        "\n",
        "\n",
        "def gen_random_tsp(ncity: int):\n",
        "    # 座標\n",
        "    locations = np.random.uniform(size=(ncity, 2))\n",
        "\n",
        "    # 距離行列\n",
        "    all_diffs = np.expand_dims(locations, axis=1) - np.expand_dims(locations, axis=0)\n",
        "    distances = np.sqrt(np.sum(all_diffs ** 2, axis=-1))\n",
        "\n",
        "    return locations, distances"
      ]
    },
    {
      "cell_type": "markdown",
      "metadata": {
        "id": "s35PoB4nt6fx"
      },
      "source": [
        "`gen_random_tsp` 関数の二つ目の返り値である`distances` は上記定式化における $d$ に相当します。\n",
        "\n",
        "次のようにして $32$ 都市について各都市の座標がプロットされます。"
      ]
    },
    {
      "cell_type": "code",
      "execution_count": null,
      "metadata": {
        "id": "DX0uXXZft6fy"
      },
      "outputs": [],
      "source": [
        "! pip install -q matplotlib"
      ]
    },
    {
      "cell_type": "code",
      "execution_count": null,
      "metadata": {
        "id": "YhQvgQXJt6fy"
      },
      "outputs": [],
      "source": [
        "import matplotlib.pyplot as plt\n",
        "\n",
        "\n",
        "def show_plot(locs: np.ndarray):\n",
        "    plt.figure(figsize=(7, 7))\n",
        "    plt.xlabel(\"x\")\n",
        "    plt.ylabel(\"y\")\n",
        "    plt.scatter(*zip(*locations))\n",
        "    plt.show()\n",
        "\n",
        "\n",
        "ncity = 32\n",
        "locations, distances = gen_random_tsp(ncity)"
      ]
    },
    {
      "cell_type": "code",
      "execution_count": null,
      "metadata": {
        "id": "3sCvVVoht6f0"
      },
      "outputs": [],
      "source": [
        "show_plot(locations)"
      ]
    },
    {
      "cell_type": "markdown",
      "metadata": {
        "id": "5KU3Q1_St6f0"
      },
      "source": [
        "## 二値多項式模型の構築\n",
        "\n",
        "次に変数テーブルを作成します。これが巡回路における訪問順と訪問先を表します。"
      ]
    },
    {
      "cell_type": "code",
      "execution_count": null,
      "metadata": {
        "id": "aunbG1OFt6f1"
      },
      "outputs": [],
      "source": [
        "! pip install -q amplify"
      ]
    },
    {
      "cell_type": "code",
      "execution_count": null,
      "metadata": {
        "id": "Is0zOqKot6gD"
      },
      "outputs": [],
      "source": [
        "from amplify import BinarySymbolGenerator\n",
        "\n",
        "gen = BinarySymbolGenerator()\n",
        "q = gen.array(ncity, ncity)\n",
        "q"
      ]
    },
    {
      "cell_type": "markdown",
      "metadata": {
        "id": "nJKxP0BJt6gE"
      },
      "source": [
        "作成した変数テーブルを用いてコスト関数 $\\sum_{n=0}^{N-1}{\\sum_{i=0}^{N-1}{\\sum_{j=0}^{N-1}{ d_{ij} q_{n, i} q_{n+1, j} }}}$ を構築します。"
      ]
    },
    {
      "cell_type": "code",
      "execution_count": null,
      "metadata": {
        "id": "_lQtGZ-9t6gE"
      },
      "outputs": [],
      "source": [
        "cost = 0\n",
        "for n in range(ncity):\n",
        "    for i in range(ncity):\n",
        "        for j in range(ncity):\n",
        "            cost += distances[i, j] * q[n, i] * q[(n + 1) % ncity, j]"
      ]
    },
    {
      "cell_type": "markdown",
      "metadata": {
        "id": "nE-5CAx6t6gF"
      },
      "source": [
        "次のようにすれば `numpy` と同様の記法で高速にコスト関数が構築できます。"
      ]
    },
    {
      "cell_type": "code",
      "execution_count": null,
      "metadata": {
        "id": "8PoIMrUXt6gF"
      },
      "outputs": [],
      "source": [
        "from amplify import sum_poly, einsum, newaxis\n",
        "\n",
        "# 配列演算を用いる方法\n",
        "f = sum_poly(ncity, lambda n: (distances * q[n, :, newaxis] * q[n - 1]).sum())\n",
        "\n",
        "# einsum 関数を用いる方法\n",
        "f = einsum(\"ij,ni,nj->\", distances, q, q.roll(-1, axis=0))"
      ]
    },
    {
      "cell_type": "markdown",
      "metadata": {
        "id": "GMiwZp8Rt6gF"
      },
      "source": [
        "次に制約条件を構築します。One-hot 制約は `one_hot()` 関数で作成されます。\n",
        "各行各列 $N$ 個ずつの制約条件をリストとして作成し、\n",
        "`sum()` 関数で全ての制約条件を足し合わせます。"
      ]
    },
    {
      "cell_type": "code",
      "execution_count": null,
      "metadata": {
        "id": "zmhlHBfIt6gG"
      },
      "outputs": [],
      "source": [
        "from amplify.constraint import one_hot\n",
        "\n",
        "# 行に対する制約\n",
        "row_constraints = [one_hot(q[n]) for n in range(ncity)]\n",
        "\n",
        "# 列に対する制約\n",
        "col_constraints = [one_hot(q[:, i]) for i in range(ncity)]\n",
        "\n",
        "constraints = sum(row_constraints) + sum(col_constraints)"
      ]
    },
    {
      "cell_type": "markdown",
      "metadata": {
        "id": "dl3fI0k3t6gG"
      },
      "source": [
        "最後にコスト関数と全ての制約条件を足し合わせて論理模型オブジェクトを作成します。ここで制約条件の強さに注意する必要があります。\n",
        "適切な制約条件の強さはコスト関数に依存し、十分に大きな値にする必要があるからです。\n",
        "ここでは、十分な大きな値として距離行列の最大値を設定します。詳細はリファレンス [1] を参照してください。"
      ]
    },
    {
      "cell_type": "code",
      "execution_count": null,
      "metadata": {
        "id": "gqEdJaXjt6gG"
      },
      "outputs": [],
      "source": [
        "constraints *= np.amax(distances)  # 制約条件の強さを設定\n",
        "model = cost + constraints"
      ]
    },
    {
      "cell_type": "markdown",
      "metadata": {
        "id": "jEbOtVkMt6gG"
      },
      "source": [
        "\n",
        "[1]: [K. Takehara, D. Oku, Y. Matsuda, S. Tanaka and N. Togawa, \"A Multiple Coefficients Trial Method to Solve Combinatorial Optimization Problems for Simulated-annealing-based Ising Machines,\" 2019 IEEE 9th International Conference on Consumer Electronics (ICCE-Berlin), Berlin, Germany, 2019, pp. 64-69, doi: 10.1109/ICCE-Berlin47944.2019.8966167.](https://ieeexplore.ieee.org/abstract/document/8966167)\n"
      ]
    },
    {
      "cell_type": "markdown",
      "metadata": {
        "id": "StwrDA3Dt6gH"
      },
      "source": [
        "## イジングマシンの実行\n",
        "\n",
        "イジングマシンのクライアントを作成しパラメータを設定します。その後ソルバーを作成しクライアントを設定します。"
      ]
    },
    {
      "cell_type": "code",
      "execution_count": null,
      "metadata": {
        "id": "qRFX5chgt6gI"
      },
      "outputs": [],
      "source": [
        "from amplify import Solver\n",
        "from amplify.client import FixstarsClient\n",
        "\n",
        "client = FixstarsClient()\n",
        "client.parameters.timeout = 5000  # タイムアウト5秒\n",
        "client.token = \"トークンを入力してください\"\n",
        "\n",
        "solver = Solver(client)"
      ]
    },
    {
      "cell_type": "markdown",
      "metadata": {
        "id": "uvYOHjyVt6gI"
      },
      "source": [
        "次のようにしてイジングマシンを実行し結果を取得します。"
      ]
    },
    {
      "cell_type": "code",
      "execution_count": null,
      "metadata": {
        "id": "ygwuTkH2t6gI"
      },
      "outputs": [],
      "source": [
        "result = solver.solve(model)\n",
        "if len(result.solutions) == 0:\n",
        "    raise RuntimeError(\"Any one of constraints is not satisfied.\")\n",
        "\n",
        "energy = result.solutions[0].energy\n",
        "values = result.solutions[0].values"
      ]
    },
    {
      "cell_type": "markdown",
      "metadata": {
        "id": "XIFUjh4ut6gI"
      },
      "source": [
        "### Note\n",
        "\n",
        "もし `result.solutions` オブジェクトが空のリストの場合、制約条件を満たす解が得られなかったことを意味します。\n",
        "この場合はイジングマシンのパラメータや制約の強さの変更が必要です。"
      ]
    },
    {
      "cell_type": "markdown",
      "metadata": {
        "id": "PkZSsbOLt6gJ"
      },
      "source": [
        "## 結果の解析\n",
        "\n",
        "`energy` はコスト関数の評価値を表します。今回の定式化では移動距離の合計に相当します。"
      ]
    },
    {
      "cell_type": "code",
      "execution_count": null,
      "metadata": {
        "id": "9x8PrfvPt6gJ"
      },
      "outputs": [],
      "source": [
        "energy"
      ]
    },
    {
      "cell_type": "markdown",
      "metadata": {
        "id": "6wZe4csnt6gJ"
      },
      "source": [
        "`values` は入力変数と解の値のマッピングを表す辞書です。そのままでは評価しづらいので、次のようにして変数テーブル `q` と同一の形式にデコードします。"
      ]
    },
    {
      "cell_type": "code",
      "execution_count": null,
      "metadata": {
        "id": "rHb2bkOtt6gJ"
      },
      "outputs": [],
      "source": [
        "q_values = q.decode(values)\n",
        "# q_values"
      ]
    },
    {
      "cell_type": "markdown",
      "metadata": {
        "id": "z8HzJYVQt6gK"
      },
      "source": [
        "```python\n",
        ">>> q_values # 4都市の場合の実行例\n",
        "[[1, 0, 0, 0],\n",
        " [0, 0, 0, 1],\n",
        " [0, 0, 1, 0],\n",
        " [0, 1, 0, 0]]\n",
        "```"
      ]
    },
    {
      "cell_type": "markdown",
      "metadata": {
        "id": "fNapeVJxt6gK"
      },
      "source": [
        "これを見ると、各行・各列に $1$ が一回ずつしか現れていないため、確かに制約条件を満たしていることがわかります。 各行について、$1$ が現れる列インデックスを取得すれば経路がわかるので、次のように `numpy` 関数を用いて調べます"
      ]
    },
    {
      "cell_type": "code",
      "execution_count": null,
      "metadata": {
        "id": "el_24Yr_t6gK"
      },
      "outputs": [],
      "source": [
        "route = np.where(q_values == 1)[1]\n",
        "print(route)"
      ]
    },
    {
      "cell_type": "markdown",
      "metadata": {
        "id": "IabAXAb1t6gK"
      },
      "source": [
        "最後に、得られた経路を表示します。次の関数でプロットできます。"
      ]
    },
    {
      "cell_type": "code",
      "execution_count": null,
      "metadata": {
        "id": "MzqHNDmut6gL"
      },
      "outputs": [],
      "source": [
        "def show_route(route: list, distances: np.ndarray, locations: np.ndarray):\n",
        "\n",
        "    ncity = len(route)\n",
        "    path_length = sum(\n",
        "        [distances[route[i]][route[(i + 1) % ncity]] for i in range(ncity)]\n",
        "    )\n",
        "\n",
        "    x = [i[0] for i in locations]\n",
        "    y = [i[1] for i in locations]\n",
        "    plt.figure(figsize=(7, 7))\n",
        "    plt.title(f\"path length: {path_length}\")\n",
        "    plt.xlabel(\"x\")\n",
        "    plt.ylabel(\"y\")\n",
        "\n",
        "    for i in range(ncity):\n",
        "        r = route[i]\n",
        "        n = route[(i + 1) % ncity]\n",
        "        plt.plot([x[r], x[n]], [y[r], y[n]], \"b-\")\n",
        "    plt.plot(x, y, \"ro\")\n",
        "    plt.show()\n",
        "\n",
        "    return path_length"
      ]
    },
    {
      "cell_type": "code",
      "execution_count": null,
      "metadata": {
        "id": "cLWZX1xvt6gL"
      },
      "outputs": [],
      "source": [
        "show_route(route, distances, locations)"
      ]
    },
    {
      "cell_type": "markdown",
      "metadata": {
        "id": "inaABrfKt6gL"
      },
      "source": [
        "## プログラミング課題\n",
        "\n",
        "### 課題1\n",
        "上で求めた解は、始点 (出発する都市) を定めていないために回転対称性を持ちます。\n",
        "例えば、 $A\\rightarrow B \\rightarrow C \\rightarrow D \\rightarrow A$ という経路が最良解であるならば、\n",
        "$B\\rightarrow C \\rightarrow D \\rightarrow A \\rightarrow B$ という経路も最良解となり、解空間が冗長性を持ってしまっています。\n",
        "始点を固定することにより、問題を縮約化し必要となる変数の数を $(N-1)^2$ に減らすことができます。\n",
        "\n",
        "最初に出発する都市を0番目の都市に固定して巡回セールスマン問題を解いてください。\n",
        "また、このとき論理模型において使用されている変数の数が $N^2$ よりも少なくなっていることを確認してください。\n",
        "\n",
        "ヒント：\n",
        "  * 例えば `q[0, 0]=0` とすると、バイナリ変数 $q_{0,0} = 0$ に固定することができます。目的関数や制約条件を作成する前に設定してください。\n",
        "  * 論理模型において使用されている変数の数は `model.num_logical_vars` で取得できます。"
      ]
    },
    {
      "cell_type": "code",
      "execution_count": null,
      "metadata": {
        "id": "BPqu19WLt6gM"
      },
      "outputs": [],
      "source": [
        ""
      ]
    },
    {
      "cell_type": "markdown",
      "metadata": {
        "id": "RE0QscENt6gN"
      },
      "source": [
        "### 課題2\n",
        "最長単純道問題とは、いくつかの都市が与えられたとき、ある都市から出発してすべての都市をちょうど1回ずつ通って別の都市まで行く経路のうち最も長いものを求める問題です。\n",
        "巡回セールスマン問題を参考にして、最長単純道問題を解いてください。"
      ]
    },
    {
      "cell_type": "code",
      "execution_count": null,
      "metadata": {
        "id": "eSk6oKjvt6gN"
      },
      "outputs": [],
      "source": [
        ""
      ]
    }
  ],
  "metadata": {
    "language_info": {
      "name": "python",
      "pygments_lexer": "ipython3"
    },
    "colab": {
      "name": "tsp_20211209.ipynb",
      "provenance": [],
      "include_colab_link": true
    }
  },
  "nbformat": 4,
  "nbformat_minor": 0
}